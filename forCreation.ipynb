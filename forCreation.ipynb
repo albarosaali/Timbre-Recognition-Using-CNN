{
 "metadata": {
  "language_info": {
   "codemirror_mode": {
    "name": "ipython",
    "version": 3
   },
   "file_extension": ".py",
   "mimetype": "text/x-python",
   "name": "python",
   "nbconvert_exporter": "python",
   "pygments_lexer": "ipython3",
   "version": "3.8.5"
  },
  "orig_nbformat": 2,
  "kernelspec": {
   "name": "python385jvsc74a57bd0dce9c2f904e74544eb707186904004555ba9db2b71eab0be4a2e7d0b563b9476",
   "display_name": "Python 3.8.5 64-bit ('venv': venv)"
  },
  "metadata": {
   "interpreter": {
    "hash": "dce9c2f904e74544eb707186904004555ba9db2b71eab0be4a2e7d0b563b9476"
   }
  }
 },
 "nbformat": 4,
 "nbformat_minor": 2,
 "cells": [
  {
   "cell_type": "code",
   "execution_count": null,
   "metadata": {},
   "outputs": [],
   "source": [
    "# For labels for real guitar data\n",
    "import os\n",
    "import shutil\n",
    "import numpy as np\n",
    "import pyfftw\n",
    "import scipy\n",
    "from scipy.io import wavfile as wav\n",
    "import matplotlib.pyplot as plt\n",
    "import ffmpeg\n",
    "import PIL\n",
    "from PIL import Image\n",
    "import spectrogramFuncs as spec\n",
    "import midiCreationFuncs as midiMagic\n",
    "import makeDataset as md\n",
    "import pretty_midi as pm"
   ]
  },
  {
   "cell_type": "code",
   "execution_count": null,
   "metadata": {},
   "outputs": [],
   "source": [
    "# Guitar\n",
    "#fNames = ['4AscFTeleClean', '4AscGLPClean', '8AscFTeleClean', '8AscGLPClean']\n",
    "#midiFName = ['4Asc']*5 + ['8Asc']*5\n",
    "#other = ['', 'CleanCitrus', 'Blues74', 'LittleJimisWing', 'JazzReverb']*2\n",
    "#noteLengths = [0.5]*5 + [0.25]*5\n",
    "\n",
    "# For basic guitar soundfonts\n",
    "fNames = ['4Asc']\n",
    "midiFName = ['4Asc']*7\n",
    "other = ['Clean', 'Jazz', 'Overdrive', 'Funk', 'Distortion', 'GLPClean', 'FTeleClean']\n",
    "noteLengths = [0.5]*7\n",
    "\n",
    "directory = 'Guitar/Hop Experiments Single Note Ascensions'"
   ]
  },
  {
   "cell_type": "code",
   "execution_count": null,
   "metadata": {},
   "outputs": [],
   "source": [
    "# Trumpet\n",
    "fNames = ['4Asc']#'4AscNoteX4']#, '8AscNoteX4']\n",
    "midiFName = ['4Asc']*3#'4AscNoteX4']*3# + ['8AscNoteX4']*3\n",
    "noteLengths = [0.5]*3# + [0.25]*3\n",
    "other = ['Clean', 'Expr', 'Pap']*3\n",
    "directory = 'Trumpet'"
   ]
  },
  {
   "cell_type": "code",
   "execution_count": null,
   "metadata": {},
   "outputs": [],
   "source": [
    "# Piano\n",
    "fNames = ['4Asc']\n",
    "midiFName = ['4Asc']*8\n",
    "noteLengths = [0.5]*8\n",
    "other = ['ChateauGrand', 'YamahaC5', 'LargeConcertGrand', 'Upright', 'GrandPiano', 'BrightGrandPiano', 'MellowGrandPiano','ElectricGrand']\n",
    "directory = 'Piano'"
   ]
  },
  {
   "cell_type": "code",
   "execution_count": null,
   "metadata": {},
   "outputs": [],
   "source": [
    "# Combined\n",
    "fNames = ['4Asc']#'4AscGLPCleanTrump', '4AscFndTeleTrump']#, '4AscGLPCleanCitrusVSCO2']#['4AscGLPCleanPapTrump', '4AscFndTelePapTrump', \n",
    "midiFName = ['4Asc']\n",
    "noteLengths = [0.5]\n",
    "other = ['CleanTrump']\n",
    "directory = 'Guitar+Trumpet'"
   ]
  },
  {
   "cell_type": "code",
   "execution_count": null,
   "metadata": {},
   "outputs": [],
   "source": [
    "# Checking stuff\n",
    "path = 'TrainingRawData(120)/' + directory + \"/\" + midiFName[0] + \".mid\"\n",
    "info = pm.PrettyMIDI(path, initial_tempo=120)\n",
    "pm.program_to_instrument_name(info.instruments[1].program)"
   ]
  },
  {
   "cell_type": "code",
   "execution_count": null,
   "metadata": {},
   "outputs": [],
   "source": [
    "# 2 Insts\n",
    "labels = [[],[]]\n",
    "datas = np.ndarray(shape=(0,512,128,3), dtype='float16', order='C')\n",
    "fwindow  = 1024\n",
    "hopLength = 512\n",
    "directory = directory\n",
    "#print(labels[0])\n",
    "#print(len(labels[0]))\n",
    "#print(np.argmax(labels[0]))\n"
   ]
  },
  {
   "cell_type": "code",
   "execution_count": null,
   "metadata": {},
   "outputs": [],
   "source": [
    "# Two Label Sys\n",
    "repeat = 0\n",
    "while repeat < 1:\n",
    "    for filo in fNames:\n",
    "        for midiFile, noteLength, post in zip(midiFName, noteLengths, other):\n",
    "            if midiFile in filo: # Change depending on instrument inputting (either == or in)\n",
    "                print(filo, midiFile, post)\n",
    "                guit, trump = midiMagic.create_inst_label('TrainingRawData(120)/' + directory + \"/\" + midiFile + \".mid\", noteLength, (fwindow*2)/32768)\n",
    "\n",
    "                spec.create_spectrogram_set_from_wav_file('TrainingRawData(120)/' + directory + \"/\" + filo + post, hopLength = hopLength, fwindow = fwindow, reset=False)\n",
    "                \n",
    "                data = md.spectrograms_to_arrays('TrainingRawData(120)/' + directory + '/' + filo + post + 'Spectrograms' + 'F_' + str(fwindow) + 'H_' + str(hopLength))\n",
    "\n",
    "                # Add labels for nothing, let = label 129\n",
    "                nothingLength = len(data)-len(guit)\n",
    "                while nothingLength > 0:\n",
    "                    guit.append([0]*128 + [1])\n",
    "                    trump.append([0]*128 + [1])\n",
    "                    nothingLength -= 1\n",
    "                #data = data[:len(label_0)]\n",
    "                \n",
    "                labels[0].extend(guit)\n",
    "                labels[1].extend(trump)\n",
    "                datas = np.concatenate((datas, data), axis = 0)\n",
    "                '''\n",
    "                # Duplicate Data (for guitar, trump only)\n",
    "                labels[0].extend(guit)\n",
    "                labels[1].extend(trump)\n",
    "                datas = np.concatenate((datas,data), axis = 0)'''\n",
    "            else: \n",
    "                print('skipped')\n",
    "                continue \n",
    "    repeat += 1\n",
    "\n",
    "print(np.shape(labels))\n",
    "#print(np.shape(datas))"
   ]
  },
  {
   "cell_type": "code",
   "execution_count": null,
   "metadata": {},
   "outputs": [],
   "source": [
    "labels = np.array(labels)\n",
    "md.create_two_label_dataset('TrainingDatasets/Guitar_Trump/','GTSetF1024_H512_Take_3_Size_37445_4AscOnly', datas, labels)"
   ]
  },
  {
   "cell_type": "code",
   "execution_count": null,
   "metadata": {
    "tags": []
   },
   "outputs": [],
   "source": [
    "for i,j in zip(labels[0], labels[1]):\n",
    "    print(np.argmax(i), np.argmax(j))\n",
    "print(np.shape(labels))\n",
    "print(np.shape(datas))"
   ]
  },
  {
   "cell_type": "code",
   "execution_count": null,
   "metadata": {},
   "outputs": [],
   "source": [
    "# Duplicate Data\n",
    "labels[0].extend(labels[0])\n",
    "labels[1].extend(labels[1])\n",
    "datas = np.concatenate((datas,datas), axis = 0)\n",
    "print(np.shape(labels))\n",
    "print(np.shape(datas))"
   ]
  },
  {
   "cell_type": "code",
   "execution_count": null,
   "metadata": {},
   "outputs": [],
   "source": [
    "# 1 Inst\n",
    "labels = np.ndarray(shape=(0,129), dtype='float32', order='C')\n",
    "datas = np.ndarray(shape=(0,512,128,3), dtype='float32', order='C')\n",
    "fwindow  = 4096\n",
    "hopLength = 512\n",
    "directory = directory\n",
    "label_ins = 'Trumpet'"
   ]
  },
  {
   "cell_type": "code",
   "execution_count": null,
   "metadata": {},
   "outputs": [],
   "source": [
    "# 1 Label Sys\n",
    "i = 0\n",
    "repeat = 0\n",
    "while repeat < 1:\n",
    "    for filo in fNames:\n",
    "        for midiFile, noteLength, post in zip(midiFName, noteLengths, other):\n",
    "            if midiFile in filo: # Change depending on instrument inputting (either == or in)\n",
    "                print(filo, midiFile, post)\n",
    "                inst = midiMagic.create_sole_inst_label('TrainingRawData(120)/' + directory + \"/\" + midiFile + \".mid\", noteLength, (fwindow*2)/32768, label_ins)\n",
    "                #if i < 5:\n",
    "                #spec.create_spectrogram_set_from_wav_file('TrainingRawData(120)/' + directory + \"/\" + filo + post, hopLength = hopLength, fwindow = fwindow)\n",
    "                #    i += 1\n",
    "                data = md.spectrograms_to_arrays('TrainingRawData(120)/' + directory + '/' + filo + post + 'Spectrograms' + 'F_' + str(fwindow) + 'H_' + str(hopLength))\n",
    "                # Add labels for nothing, let = label 129\n",
    "                nothingLength = len(data)-len(inst)\n",
    "                while nothingLength > 0:\n",
    "                    inst.append([0]*128 + [1])\n",
    "                    nothingLength -= 1\n",
    "                #data = data[:len(label_0)]\n",
    "                \n",
    "                labels = np.concatenate((labels,inst), axis = 0)\n",
    "                datas = np.concatenate((datas, data), axis = 0)\n",
    "                '''\n",
    "                # Duplicate Data (for guitar, trump only)\n",
    "                labels[0].extend(guit)\n",
    "                labels[1].extend(trump)\n",
    "                datas = np.concatenate((datas,data), axis = 0)'''\n",
    "            else: \n",
    "                print('skipped')\n",
    "                continue \n",
    "    repeat += 1\n",
    "print('--- Complete---')"
   ]
  },
  {
   "cell_type": "code",
   "execution_count": null,
   "metadata": {
    "tags": []
   },
   "outputs": [],
   "source": [
    "for i in range(len(labels)):\n",
    "    print(np.argmax(labels[i]),)\n",
    "print(np.shape(labels))\n",
    "print(np.shape(datas))"
   ]
  },
  {
   "cell_type": "code",
   "execution_count": null,
   "metadata": {},
   "outputs": [],
   "source": [
    "labels = np.array(labels)\n",
    "md.create_one_label_dataset('TrainingDatasets/Trumpet1Inst/','TrumpetSoundFontSetF4096_H512_Combined_Take_2_Size_9361_4AscOnly', datas, labels) "
   ]
  },
  {
   "cell_type": "code",
   "execution_count": null,
   "metadata": {},
   "outputs": [],
   "source": []
  }
 ]
}