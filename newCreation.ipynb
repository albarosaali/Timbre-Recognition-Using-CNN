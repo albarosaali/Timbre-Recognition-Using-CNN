{
 "metadata": {
  "language_info": {
   "codemirror_mode": {
    "name": "ipython",
    "version": 3
   },
   "file_extension": ".py",
   "mimetype": "text/x-python",
   "name": "python",
   "nbconvert_exporter": "python",
   "pygments_lexer": "ipython3",
   "version": "3.8.5"
  },
  "orig_nbformat": 2,
  "kernelspec": {
   "name": "python385jvsc74a57bd0dce9c2f904e74544eb707186904004555ba9db2b71eab0be4a2e7d0b563b9476",
   "display_name": "Python 3.8.5 64-bit ('venv': venv)"
  },
  "metadata": {
   "interpreter": {
    "hash": "dce9c2f904e74544eb707186904004555ba9db2b71eab0be4a2e7d0b563b9476"
   }
  }
 },
 "nbformat": 4,
 "nbformat_minor": 2,
 "cells": [
  {
   "cell_type": "code",
   "execution_count": null,
   "metadata": {},
   "outputs": [],
   "source": [
    "import os\n",
    "import shutil\n",
    "import numpy as np\n",
    "import ffmpeg\n",
    "import PIL\n",
    "from PIL import Image\n",
    "import spectrogramFuncs as spec\n",
    "import midiCreationFuncs as midiMagic\n",
    "import makeDataset as md\n",
    "import pretty_midi as pm"
   ]
  },
  {
   "cell_type": "code",
   "execution_count": null,
   "metadata": {},
   "outputs": [],
   "source": [
    "## SINGLE Instrument 120 BPM Ascension MIDI file creation\n",
    "## Can be used to synthesise audio using soundfounts in programs such as MuseScore\n",
    "\n",
    "# Path to save folder (omit final /)\n",
    "folder = 'CreationTest/Single'  \n",
    "file_name = '4Asc'\n",
    "note_length = 0.5 # Crotchet\n",
    "instrument_MIDI_program_number = 27 # Clean electric guitar\n",
    "# MIDI note range: 0 = C0, 127 = G9\n",
    "lowest_note = 40\n",
    "highest_note = 88\n",
    "\n",
    "midiMagic.create_instrument_ascension(file_name, folder, noteLength = note_length, instrument_prog_num = instrument_MIDI_program_number, lowestNote = lowest_note, highestNote = highest_note) "
   ]
  },
  {
   "cell_type": "code",
   "execution_count": null,
   "metadata": {},
   "outputs": [],
   "source": [
    "## DUAL Instrument 120 BPM Ascension MIDI file creation\n",
    "## Can be used to synthesise audio using soundfounts in programs such as MuseScore\n",
    "\n",
    "# Path to save folder (omit final /)\n",
    "folder = 'CreationTest/Double'  \n",
    "file_name = '4AscDual'\n",
    "note_length = 0.5 # Crotchet\n",
    "first_instrument_MIDI_program_number = 27 # Clean electric guitar\n",
    "second__instrument_MIDI_program_number = 56 # Trumpet\n",
    "# MIDI note range: 0 = C0, 127 = G9\n",
    "first_note_range = [40,88]\n",
    "second_note_range = [54,86]\n",
    "\n",
    "midiMagic.create_two_instrument_ascension(file_name, folder, noteLength = note_length, firstProg = first_instrument_MIDI_program_number, secondProg = second__instrument_MIDI_program_number, firstRange = first_note_range, secondRange = second_note_range) "
   ]
  },
  {
   "cell_type": "code",
   "execution_count": null,
   "metadata": {},
   "outputs": [],
   "source": [
    "## Proceed once .wav files have been synthesised from the MIDI files\n",
    "# If you are not using guitar and trumpet as your instruments, see the \"midiCreationFuncs.py\" file for the labelling functions and adjust them accordingly.\n",
    "\n",
    "# Get appropriate files here, omit final /\n",
    "folder_containing_files = 'CreationTest/Single'\n",
    "# Best way to organise folders is to have one midi file per folder with a collection of .wav files\n",
    "midi_path, wav_paths = midiMagic.process_folder_with_midi_and_wavs(folder_containing_files)"
   ]
  },
  {
   "cell_type": "code",
   "execution_count": null,
   "metadata": {},
   "outputs": [],
   "source": [
    "## TWO Instrument labelling (make sure that order of instruments in midi_file is consistent) -- see lower down for ONE instrument labelling\n",
    "# If you are not using guitar and trumpet as your instruments, see the \"midiCreationFuncs.py\" file for the labelling functions and adjust them accordingly.\n",
    "labels = [[],[]]\n",
    "datas = np.ndarray(shape=(0,512,128,3), dtype='float32', order='C')\n",
    "fft_window = 2048 # The spectrogram frame size will be twice this value (but this value will appear next to the spectrogram folder)\n",
    "hop_length = 512\n",
    "# Note length of ascension in MIDI file\n",
    "note_length = 0.5\n",
    "# Labelling\n",
    "repeat = 0 # increase if you'd like to have multiple copies of the same data\n",
    "while repeat >= 0:\n",
    "    for wav in wav_paths:\n",
    "        guit, trump = midiMagic.create_inst_label(midi_path, note_length, (frame_size)/32768) \n",
    "\n",
    "        spec.create_spectrogram_set_from_wav_file(folder_containing_files + '/' + wav, hopLength = hop_length, fwindow = int(fft_window), reset=False)  \n",
    "\n",
    "        data = md.spectrograms_to_arrays(folder_containing_files + '/' + wav + 'Spectrograms' + 'F_' + str(frame_size) + 'H_' + str(hop_length))\n",
    "\n",
    "        # Add labels for nothing, let = label 129\n",
    "        nothingLength = len(data)-len(guit)\n",
    "        while nothingLength > 0:\n",
    "            guit.append([0]*128 + [1])\n",
    "            trump.append([0]*128 + [1])\n",
    "            nothingLength -= 1\n",
    "        #data = data[:len(label_0)]\n",
    "        \n",
    "        labels[0].extend(guit)\n",
    "        labels[1].extend(trump)\n",
    "        datas = np.concatenate((datas, data), axis = 0)\n",
    "    repeat -= 1\n",
    "\n",
    "print(\"Complete\")"
   ]
  },
  {
   "cell_type": "code",
   "execution_count": null,
   "metadata": {},
   "outputs": [],
   "source": [
    "## Create TWO instrument dataset\n",
    "folder_path = '' # omit final /\n",
    "dataset_name = ''\n",
    "\n",
    "labels = np.array(labels)\n",
    "md.create_two_label_dataset(folder_path + '/', dataset_name, datas, labels)"
   ]
  },
  {
   "cell_type": "code",
   "execution_count": null,
   "metadata": {},
   "outputs": [],
   "source": [
    "## FOR TROUBLESHOOTING (TWO INST)\n",
    "print(np.shape(labels))\n",
    "print(np.shape(datas))"
   ]
  },
  {
   "cell_type": "code",
   "execution_count": null,
   "metadata": {},
   "outputs": [],
   "source": [
    "## FOR TROUBLESHOOTING (TWO INST)\n",
    "for i,j in zip(labels[0], labels[1]):\n",
    "    print(np.argmax(i), np.argmax(j))\n",
    "print(np.shape(labels))\n",
    "print(np.shape(datas))"
   ]
  },
  {
   "cell_type": "code",
   "execution_count": null,
   "metadata": {},
   "outputs": [],
   "source": [
    "## ONE instrument labelling\n",
    "# If you are not using guitar and trumpet as your instruments, see the \"midiCreationFuncs.py\" file for the labelling functions and adjust them accordingly.\n",
    "label_ins = 'Guitar'\n",
    "labels = []\n",
    "datas = np.ndarray(shape=(0,512,128,3), dtype='float32', order='C')\n",
    "fft_window = 2048 # The spectrogram frame size will be twice this value\n",
    "hop_length = 512\n",
    "# Note length used in the midi-ascension file\n",
    "note_length = 0.5\n",
    "# Labelling\n",
    "repeat = 0 # increase if you'd like to have multiple copies of the same data\n",
    "while repeat >= 0:\n",
    "    for wav in wav_paths:\n",
    "        inst = midiMagic.create_sole_inst_label(midi_path, note_length, (frame_size)/32768, label_instrument=label_ins) \n",
    "        \n",
    "        spec.create_spectrogram_set_from_wav_file(folder_containing_files + '/' + wav, hopLength = hop_length, fwindow = int(fft_window), reset=False)     \n",
    "\n",
    "        data = md.spectrograms_to_arrays(folder_containing_files + '/' + wav + 'Spectrograms' + 'F_' + str(frame_size) + 'H_' + str(hop_length))\n",
    "\n",
    "        # Add labels for nothing, let = label 129\n",
    "        nothingLength = len(data)-len(inst)\n",
    "        while nothingLength > 0:\n",
    "            inst.append([0]*128 + [1])\n",
    "            nothingLength -= 1\n",
    "        #data = data[:len(label_0)]\n",
    "        \n",
    "        labels.extend(inst)\n",
    "        datas = np.concatenate((datas, data), axis = 0)\n",
    "    repeat -= 1\n",
    "\n",
    "print(\"Complete\")"
   ]
  },
  {
   "cell_type": "code",
   "execution_count": null,
   "metadata": {},
   "outputs": [],
   "source": [
    "## Create ONE instrument Dataset\n",
    "folder_path = 'CreationTest' # omit final /\n",
    "dataset_name = 'TestSingleOne'\n",
    "\n",
    "labels = np.array(labels)\n",
    "md.create_one_label_dataset(folder_path + '/' + dataset_name, datas, labels) "
   ]
  },
  {
   "cell_type": "code",
   "execution_count": null,
   "metadata": {},
   "outputs": [],
   "source": [
    "## FOR TROUBLESHOOTING (ONE INST)\n",
    "print(np.shape(labels))\n",
    "print(np.shape(datas))"
   ]
  },
  {
   "cell_type": "code",
   "execution_count": null,
   "metadata": {},
   "outputs": [],
   "source": [
    "## FOR TROUBLESHOOTING (ONE INST)\n",
    "for i in range(len(labels)):\n",
    "    print(np.argmax(labels[i]),)\n",
    "print(np.shape(labels))\n",
    "print(np.shape(datas))"
   ]
  },
  {
   "cell_type": "code",
   "execution_count": null,
   "metadata": {},
   "outputs": [],
   "source": []
  }
 ]
}